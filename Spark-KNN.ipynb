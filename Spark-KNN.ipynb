{
 "cells": [
  {
   "cell_type": "code",
   "execution_count": 1,
   "metadata": {
    "collapsed": true
   },
   "outputs": [],
   "source": [
    "import math\n",
    "from math import sqrt\n",
    "\n",
    "from pyspark import SparkConf, SparkContext\n",
    "from pyspark.sql import SQLContext, Row\n",
    "from pyspark.sql.types import *\n",
    "import pyspark.sql.functions as func"
   ]
  },
  {
   "cell_type": "code",
   "execution_count": 2,
   "metadata": {
    "collapsed": true
   },
   "outputs": [],
   "source": [
    "sc = SparkContext()"
   ]
  },
  {
   "cell_type": "code",
   "execution_count": 3,
   "metadata": {},
   "outputs": [],
   "source": [
    "nba_data = sc.textFile(\"file:/home/jupyter/notebooks/nba_all.csv\")\n",
    "nba_data_header = nba_data.take(1)[0]"
   ]
  },
  {
   "cell_type": "code",
   "execution_count": 4,
   "metadata": {
    "collapsed": true
   },
   "outputs": [],
   "source": [
    "nba_data = nba_data.filter(lambda line: line!=nba_data_header).map(lambda line: line.split(\",\"))\n",
    "nba_data = nba_data.collect()"
   ]
  },
  {
   "cell_type": "code",
   "execution_count": 5,
   "metadata": {},
   "outputs": [],
   "source": [
    "def nba_mean(dim) :\n",
    "    Dimension = {'MIN':1,'PTS':2,'AST':3,'TOV':4,'eFG':5,'TS':6}\n",
    "    a = []\n",
    "    for x in nba_data :\n",
    "        a.append(float(x[Dimension[dim]]))\n",
    "    data_mean = sc.parallelize(a).mean()\n",
    "    return data_mean\n",
    "\n",
    "def nba_std(dim) :\n",
    "    Dimension = {'MIN':1,'PTS':2,'AST':3,'TOV':4,'eFG':5,'TS':6}\n",
    "    a = []\n",
    "    for x in nba_data :\n",
    "        a.append(float(x[Dimension[dim]]))\n",
    "    data_std = sc.parallelize(a).stdev()\n",
    "    return data_std\n",
    "  \n",
    "MIN_data_mean = nba_mean('MIN')\n",
    "MIN_data_std = nba_std('MIN')\n",
    "PTS_data_mean = nba_mean('PTS')\n",
    "PTS_data_std = nba_std('PTS')\n",
    "AST_data_mean = nba_mean('AST')\n",
    "AST_data_std = nba_std('AST')\n",
    "TOV_data_mean = nba_mean('TOV')\n",
    "TOV_data_std = nba_std('TOV')\n",
    "eFG_data_mean = nba_mean('eFG')\n",
    "eFG_data_std = nba_std('eFG')\n",
    "TS_data_mean = nba_mean('TS')\n",
    "TS_data_std = nba_std('TS')\n",
    "D1 = []\n",
    "\n",
    "for x in nba_data:\n",
    "    MIN = (((float(x[1])- MIN_data_mean) / MIN_data_std  ) - ((float(nba_data[0][1])- MIN_data_mean) / MIN_data_std  ))**2\n",
    "    PTS = (((float(x[2])- PTS_data_mean) / PTS_data_std  ) - ((float(nba_data[0][2])- PTS_data_mean) / PTS_data_std  ))**2\n",
    "    AST = (((float(x[3])- AST_data_mean) / AST_data_std  ) - ((float(nba_data[0][3])- AST_data_mean) / AST_data_std  ))**2\n",
    "    TOV = (((float(x[4])- TOV_data_mean) / TOV_data_std  ) - ((float(nba_data[0][4])- TOV_data_mean) / TOV_data_std  ))**2\n",
    "    eFG = (((float(x[5])- eFG_data_mean) / eFG_data_std  ) - ((float(nba_data[0][5])- eFG_data_mean) / eFG_data_std  ))**2\n",
    "    TS =  (((float(x[6])- TS_data_mean) / TS_data_std  ) - ((float(nba_data[0][6])- TS_data_mean) / TS_data_std  ))**2\n",
    "    distance = sqrt(MIN + PTS + AST + TOV + eFG + TS)\n",
    "    name = str(x[0])\n",
    "    c = name + ',' + str(distance)\n",
    "    D1.append(c)\n"
   ]
  },
  {
   "cell_type": "code",
   "execution_count": 6,
   "metadata": {
    "collapsed": true
   },
   "outputs": [],
   "source": [
    "Rank = sc.parallelize(D1)\n",
    "splits = Rank.map(lambda x: x.split(','))\n",
    "sqlContext = SQLContext(sc)\n",
    "Ranks = splits.map(lambda p: Row(name=p[0], distance=float(p[1])))\n",
    "schemaPeople = sqlContext.createDataFrame(Ranks)"
   ]
  },
  {
   "cell_type": "code",
   "execution_count": 7,
   "metadata": {},
   "outputs": [
    {
     "name": "stdout",
     "output_type": "stream",
     "text": [
      "+------------------+-------------------+\n",
      "|          distance|               name|\n",
      "+------------------+-------------------+\n",
      "|               0.0|     Michael Jordan|\n",
      "| 2.930094812635345|   Wilt Chamberlain|\n",
      "|3.2527939293064425|       Kevin Durant|\n",
      "| 2.452747469988465|       Elgin Baylor|\n",
      "| 2.393377221590684|       LeBron James|\n",
      "|  2.45087960369704|         Jerry West|\n",
      "|3.2314020864897763|      Allen Iverson|\n",
      "|3.1476311918721507|         Bob Pettit|\n",
      "|3.0837258294085528|      George Gervin|\n",
      "|  3.59662892670863|    Oscar Robertson|\n",
      "| 3.983627421640038|        Karl Malone|\n",
      "| 4.005454854441199|        Kobe Bryant|\n",
      "|3.7593964397052786|    Carmelo Anthony|\n",
      "|3.4551935311516107|  Dominique Wilkins|\n",
      "| 4.018363200323627|Kareem Abdul-Jabbar|\n",
      "|3.3815943577991505|         Larry Bird|\n",
      "| 4.891784788570858|     Adrian Dantley|\n",
      "|  3.76769811668317|      Pete Maravich|\n",
      "| 5.008927755946713|   Shaquille O'Neal|\n",
      "| 4.539163991028245|        Dwyane Wade|\n",
      "+------------------+-------------------+\n",
      "only showing top 20 rows\n",
      "\n"
     ]
    }
   ],
   "source": [
    "schemaPeople.show()"
   ]
  },
  {
   "cell_type": "code",
   "execution_count": 8,
   "metadata": {},
   "outputs": [
    {
     "name": "stdout",
     "output_type": "stream",
     "text": [
      "+------------------+-------------------+\n",
      "|          distance|               name|\n",
      "+------------------+-------------------+\n",
      "|               0.0|     Michael Jordan|\n",
      "| 2.393377221590684|       LeBron James|\n",
      "|  2.45087960369704|         Jerry West|\n",
      "| 2.452747469988465|       Elgin Baylor|\n",
      "| 2.930094812635345|   Wilt Chamberlain|\n",
      "|3.0837258294085528|      George Gervin|\n",
      "|3.1476311918721507|         Bob Pettit|\n",
      "|3.2314020864897763|      Allen Iverson|\n",
      "|3.2527939293064425|       Kevin Durant|\n",
      "|3.3815943577991505|         Larry Bird|\n",
      "|3.4551935311516107|  Dominique Wilkins|\n",
      "|  3.59662892670863|    Oscar Robertson|\n",
      "|3.7593964397052786|    Carmelo Anthony|\n",
      "|  3.76769811668317|      Pete Maravich|\n",
      "| 3.983627421640038|        Karl Malone|\n",
      "| 4.005454854441199|        Kobe Bryant|\n",
      "| 4.018363200323627|Kareem Abdul-Jabbar|\n",
      "| 4.108338577435676|         Rick Barry|\n",
      "| 4.539163991028245|        Dwyane Wade|\n",
      "| 4.891784788570858|     Adrian Dantley|\n",
      "+------------------+-------------------+\n",
      "only showing top 20 rows\n",
      "\n"
     ]
    }
   ],
   "source": [
    "schemaPeople.sort(\"distance\",ascending=True).show()"
   ]
  }
 ],
 "metadata": {
  "kernelspec": {
   "display_name": "Python 3",
   "language": "python",
   "name": "python3"
  },
  "language_info": {
   "codemirror_mode": {
    "name": "ipython",
    "version": 3
   },
   "file_extension": ".py",
   "mimetype": "text/x-python",
   "name": "python",
   "nbconvert_exporter": "python",
   "pygments_lexer": "ipython3",
   "version": "3.5.4"
  }
 },
 "nbformat": 4,
 "nbformat_minor": 1
}
